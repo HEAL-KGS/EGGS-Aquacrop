{
 "cells": [
  {
   "cell_type": "code",
   "execution_count": 1,
   "id": "b232a036-8c35-4ec6-8b3b-19ef7da4ee78",
   "metadata": {
    "tags": []
   },
   "outputs": [
    {
     "ename": "NameError",
     "evalue": "name 'Crop' is not defined",
     "output_type": "error",
     "traceback": [
      "\u001b[0;31m---------------------------------------------------------------------------\u001b[0m",
      "\u001b[0;31mNameError\u001b[0m                                 Traceback (most recent call last)",
      "Input \u001b[0;32mIn [1]\u001b[0m, in \u001b[0;36m<module>\u001b[0;34m\u001b[0m\n\u001b[0;32m----> 1\u001b[0m crop_calibrated \u001b[38;5;241m=\u001b[39m \u001b[43mCrop\u001b[49m(\u001b[38;5;124m\"\u001b[39m\u001b[38;5;124mMaize\u001b[39m\u001b[38;5;124m\"\u001b[39m, planting_date\u001b[38;5;241m=\u001b[39m\u001b[38;5;124m'\u001b[39m\u001b[38;5;124m05/01\u001b[39m\u001b[38;5;124m'\u001b[39m,\n\u001b[1;32m      2\u001b[0m             \u001b[38;5;66;03m# growth stages\u001b[39;00m\n\u001b[1;32m      3\u001b[0m             CalendarType \u001b[38;5;241m=\u001b[39m \u001b[38;5;241m1\u001b[39m,\n\u001b[1;32m      4\u001b[0m             SwitchGDD \u001b[38;5;241m=\u001b[39m \u001b[38;5;241m1\u001b[39m,  \u001b[38;5;66;03m#Convert calendar to gdd mode if inputs are given in calendar days (0 = No; 1 = Yes)\u001b[39;00m\n\u001b[1;32m      5\u001b[0m             \u001b[38;5;66;03m##Crop Development\u001b[39;00m\n\u001b[1;32m      6\u001b[0m             Emergence \u001b[38;5;241m=\u001b[39m \u001b[38;5;241m15\u001b[39m, \u001b[38;5;66;03m#15\u001b[39;00m\n\u001b[1;32m      7\u001b[0m             Senescence \u001b[38;5;241m=\u001b[39m \u001b[38;5;241m42\u001b[39m, \u001b[38;5;66;03m#42\u001b[39;00m\n\u001b[1;32m      8\u001b[0m             Maturity \u001b[38;5;241m=\u001b[39m \u001b[38;5;241m131\u001b[39m, \u001b[38;5;66;03m#131\u001b[39;00m\n\u001b[1;32m      9\u001b[0m             MaxRooting \u001b[38;5;241m=\u001b[39m \u001b[38;5;241m91\u001b[39m, \u001b[38;5;66;03m#91\u001b[39;00m\n\u001b[1;32m     10\u001b[0m             HIstart \u001b[38;5;241m=\u001b[39m \u001b[38;5;241m83\u001b[39m,\n\u001b[1;32m     11\u001b[0m             Flowering \u001b[38;5;241m=\u001b[39m \u001b[38;5;241m67\u001b[39m,\n\u001b[1;32m     12\u001b[0m             YldForm \u001b[38;5;241m=\u001b[39m \u001b[38;5;241m60\u001b[39m,\n\u001b[1;32m     13\u001b[0m             \n\u001b[1;32m     14\u001b[0m             \u001b[38;5;66;03m# canopy cover profile\u001b[39;00m\n\u001b[1;32m     15\u001b[0m             \u001b[38;5;66;03m#CCx = 0.94,\u001b[39;00m\n\u001b[1;32m     16\u001b[0m             CGC \u001b[38;5;241m=\u001b[39m \u001b[38;5;241m13.7\u001b[39m,\n\u001b[1;32m     17\u001b[0m             CDC \u001b[38;5;241m=\u001b[39m \u001b[38;5;241m1.31\u001b[39m,\n\u001b[1;32m     18\u001b[0m     \n\u001b[1;32m     19\u001b[0m             \u001b[38;5;66;03m# after running swam\u001b[39;00m\n\u001b[1;32m     20\u001b[0m             CCx \u001b[38;5;241m=\u001b[39m \u001b[38;5;241m0.99\u001b[39m,\n\u001b[1;32m     21\u001b[0m             WPy \u001b[38;5;241m=\u001b[39m \u001b[38;5;241m75\u001b[39m,\n\u001b[1;32m     22\u001b[0m             Wp \u001b[38;5;241m=\u001b[39m \u001b[38;5;241m33.3641\u001b[39m,\n\u001b[1;32m     23\u001b[0m             Kcb \u001b[38;5;241m=\u001b[39m \u001b[38;5;241m1.1\u001b[39m\n\u001b[1;32m     24\u001b[0m \n\u001b[1;32m     25\u001b[0m \n\u001b[1;32m     26\u001b[0m             \n\u001b[1;32m     27\u001b[0m     )\n\u001b[1;32m     30\u001b[0m \u001b[38;5;66;03m# run model\u001b[39;00m\n\u001b[1;32m     31\u001b[0m model_c \u001b[38;5;241m=\u001b[39m AquaCropModel(sim_start,sim_end,wdf,custom,crop_calibrated,initWC, irr_mngt)\n",
      "\u001b[0;31mNameError\u001b[0m: name 'Crop' is not defined"
     ]
    }
   ],
   "source": [
    "crop_calibrated = Crop(\"Maize\", planting_date='05/01',\n",
    "            # growth stages\n",
    "            CalendarType = 1,\n",
    "            SwitchGDD = 1,  #Convert calendar to gdd mode if inputs are given in calendar days (0 = No; 1 = Yes)\n",
    "            ##Crop Development\n",
    "            Emergence = 15, #15\n",
    "            Senescence = 42, #42\n",
    "            Maturity = 131, #131\n",
    "            MaxRooting = 91, #91\n",
    "            HIstart = 83,\n",
    "            Flowering = 67,\n",
    "            YldForm = 60,\n",
    "            \n",
    "            # canopy cover profile\n",
    "            #CCx = 0.94,\n",
    "            CGC = 13.7,\n",
    "            CDC = 1.31,\n",
    "    \n",
    "            # after running swam\n",
    "            CCx = 0.99,\n",
    "            WPy = 75,\n",
    "            Wp = 33.3641,\n",
    "            Kcb = 1.1\n",
    "\n",
    "\n",
    "            \n",
    "    )\n",
    "\n",
    "\n",
    "# run model\n",
    "model_c = AquaCropModel(sim_start,sim_end,wdf,custom,crop_calibrated,initWC, irr_mngt)\n",
    "model_c.run_model(till_termination=True) # run model till the end\n",
    "model_c_et = model_c._outputs.water_flux\n",
    "model_c_irr = model_c._outputs.final_stats\n",
    "#model_c_water_storage = model_c._outputs.water_storage\n",
    "#model_c_crp_grwth = model_c._outputs.crop_growth\n",
    "\n",
    " # make year a column \n",
    "model_c_irr = model_c_irr.assign(Year =  model_c_irr['Harvest Date (YYYY/MM/DD)'].dt.year)\n",
    "model_c_irr = model_c_irr.rename(columns={\n",
    "                   'Yield (tonne/ha)': 'Calib Yield (t/ha)',\n",
    "                   'Seasonal irrigation (mm)': 'Calib Irrigation (mm)'\n",
    "                   })\n",
    "\n",
    "model_c_irr = model_c_irr[['Year', 'Calib Yield (t/ha)', 'Calib Irrigation (mm)']]\n",
    "\n"
   ]
  },
  {
   "cell_type": "code",
   "execution_count": null,
   "id": "9cf1a974-c9f0-4d5c-a0d1-989d701ce9a6",
   "metadata": {},
   "outputs": [],
   "source": [
    "# compare models\n",
    "model_comp = model_uc_irr.merge(model_c_irr,on='Year').merge(sher_irrig_corn,on='Year').merge(sher_wimas, on = 'Year')\n",
    "model_comp = model_comp.assign(YieldUSDA = model_comp['Value']*0.0673)\n"
   ]
  },
  {
   "cell_type": "code",
   "execution_count": null,
   "id": "1a5901a3-bc00-42aa-98d8-a82b5c8a9d67",
   "metadata": {},
   "outputs": [],
   "source": [
    "#model_comp = model_comp[model_comp['Year'] != 2009]\n",
    "# comparison - time series plot\n",
    "irrig_colors = ['#FFA500', '#8abbdb', '#69a6d0', '#4892c6', '#367bac', '#356384', '#344b5b']\n",
    "\n",
    "plt.style.use('default')\n",
    "plt.plot(model_comp['Year'], model_comp['Calib Yield (t/ha)'],  label='Calibrated AqC', color = 'goldenrod', linewidth=3)\n",
    "plt.plot(model_comp['Year'], model_comp['Uncalib Yield (t/ha)'],  label='Uncalibrated AqC', color = 'grey', linewidth=3)\n",
    "plt.plot(model_comp['Year'], model_comp['YieldUSDA'],  label='USDA-NASS', color = '#2e8b57', linestyle='dashed')\n",
    "plt.ylabel('Yield (t/ha)', fontsize=15)\n",
    "plt.legend(loc='lower right', fontsize=12, frameon=False)\n",
    "plt.xticks(fontsize=12)\n",
    "plt.yticks(fontsize=12)\n",
    "#plt.savefig('results/visual"
   ]
  },
  {
   "cell_type": "code",
   "execution_count": null,
   "id": "c0f6e23f-bde3-4080-aad5-7c2fd1acacf0",
   "metadata": {},
   "outputs": [],
   "source": [
    "# 1:1 plot\n",
    "plt.scatter(model_comp['YieldUSDA'], model_comp['Calib Yield (t/ha)'],  label='Calibrated AqC', color = 'goldenrod', edgecolors = 'black', s = 50)\n",
    "plt.scatter(model_comp['YieldUSDA'], model_comp['Uncalib Yield (t/ha)'],  label='Uncalibrated AqC', color = 'grey', edgecolors = 'black', s=50)\n",
    "plt.plot([10,15],[10,15], color = 'black')\n",
    "plt.legend(loc='lower right', fontsize=12, frameon=False)\n",
    "plt.ylabel('AquaCrop Yield (t/ha)', fontsize=15)\n",
    "plt.xlabel('USDA-NASS (t/ha)', fontsize=15)\n",
    "plt.legend(loc='lower right', fontsize=12, frameon=False)\n",
    "plt.xticks(fontsize=12)\n",
    "plt.yticks(fontsize=12)\n",
    "#plt.savefig('results/visuals/yieldmodelcal_40SMT_11.png', format='png', dpi=600)"
   ]
  }
 ],
 "metadata": {
  "kernelspec": {
   "display_name": "eggs2",
   "language": "python",
   "name": "eggs2"
  },
  "language_info": {
   "codemirror_mode": {
    "name": "ipython",
    "version": 3
   },
   "file_extension": ".py",
   "mimetype": "text/x-python",
   "name": "python",
   "nbconvert_exporter": "python",
   "pygments_lexer": "ipython3",
   "version": "3.9.9"
  }
 },
 "nbformat": 4,
 "nbformat_minor": 5
}
