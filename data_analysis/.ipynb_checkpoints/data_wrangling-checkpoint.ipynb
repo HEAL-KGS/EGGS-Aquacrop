{
 "cells": [
  {
   "cell_type": "code",
   "execution_count": 1,
   "id": "f850e109-1c22-442c-841e-ffc6fd3094af",
   "metadata": {
    "tags": []
   },
   "outputs": [
    {
     "name": "stdout",
     "output_type": "stream",
     "text": [
      "Defaulting to user installation because normal site-packages is not writeable\n",
      "Requirement already satisfied: dfply in /home/jupyter-wndlovu/.local/lib/python3.9/site-packages (0.3.3)\n",
      "Requirement already satisfied: pandas in /home/jupyter-wndlovu/.local/lib/python3.9/site-packages (from dfply) (2.0.2)\n",
      "Requirement already satisfied: numpy in /home/jupyter-wndlovu/.local/lib/python3.9/site-packages (from dfply) (1.21.0)\n",
      "Requirement already satisfied: tzdata>=2022.1 in /home/jupyter-wndlovu/.local/lib/python3.9/site-packages (from pandas->dfply) (2023.3)\n",
      "Requirement already satisfied: python-dateutil>=2.8.2 in /opt/tljh/user/lib/python3.9/site-packages (from pandas->dfply) (2.8.2)\n",
      "Requirement already satisfied: pytz>=2020.1 in /opt/tljh/user/lib/python3.9/site-packages (from pandas->dfply) (2021.3)\n",
      "Requirement already satisfied: six>=1.5 in /opt/tljh/user/lib/python3.9/site-packages (from python-dateutil>=2.8.2->pandas->dfply) (1.16.0)\n",
      "Defaulting to user installation because normal site-packages is not writeable\n",
      "Requirement already satisfied: seaborn in /home/jupyter-wndlovu/.local/lib/python3.9/site-packages (0.12.2)\n",
      "Requirement already satisfied: numpy!=1.24.0,>=1.17 in /home/jupyter-wndlovu/.local/lib/python3.9/site-packages (from seaborn) (1.21.0)\n",
      "Requirement already satisfied: matplotlib!=3.6.1,>=3.1 in /home/jupyter-wndlovu/.local/lib/python3.9/site-packages (from seaborn) (3.7.1)\n",
      "Requirement already satisfied: pandas>=0.25 in /home/jupyter-wndlovu/.local/lib/python3.9/site-packages (from seaborn) (2.0.2)\n",
      "Requirement already satisfied: importlib-resources>=3.2.0 in /home/jupyter-wndlovu/.local/lib/python3.9/site-packages (from matplotlib!=3.6.1,>=3.1->seaborn) (5.12.0)\n",
      "Requirement already satisfied: kiwisolver>=1.0.1 in /home/jupyter-wndlovu/.local/lib/python3.9/site-packages (from matplotlib!=3.6.1,>=3.1->seaborn) (1.4.4)\n",
      "Requirement already satisfied: cycler>=0.10 in /home/jupyter-wndlovu/.local/lib/python3.9/site-packages (from matplotlib!=3.6.1,>=3.1->seaborn) (0.11.0)\n",
      "Requirement already satisfied: contourpy>=1.0.1 in /home/jupyter-wndlovu/.local/lib/python3.9/site-packages (from matplotlib!=3.6.1,>=3.1->seaborn) (1.0.7)\n",
      "Requirement already satisfied: pyparsing>=2.3.1 in /opt/tljh/user/lib/python3.9/site-packages (from matplotlib!=3.6.1,>=3.1->seaborn) (3.0.7)\n",
      "Requirement already satisfied: python-dateutil>=2.7 in /opt/tljh/user/lib/python3.9/site-packages (from matplotlib!=3.6.1,>=3.1->seaborn) (2.8.2)\n",
      "Requirement already satisfied: pillow>=6.2.0 in /home/jupyter-wndlovu/.local/lib/python3.9/site-packages (from matplotlib!=3.6.1,>=3.1->seaborn) (9.5.0)\n",
      "Requirement already satisfied: packaging>=20.0 in /opt/tljh/user/lib/python3.9/site-packages (from matplotlib!=3.6.1,>=3.1->seaborn) (23.1)\n",
      "Requirement already satisfied: fonttools>=4.22.0 in /home/jupyter-wndlovu/.local/lib/python3.9/site-packages (from matplotlib!=3.6.1,>=3.1->seaborn) (4.39.4)\n",
      "Requirement already satisfied: pytz>=2020.1 in /opt/tljh/user/lib/python3.9/site-packages (from pandas>=0.25->seaborn) (2021.3)\n",
      "Requirement already satisfied: tzdata>=2022.1 in /home/jupyter-wndlovu/.local/lib/python3.9/site-packages (from pandas>=0.25->seaborn) (2023.3)\n",
      "Requirement already satisfied: zipp>=3.1.0 in /opt/tljh/user/lib/python3.9/site-packages (from importlib-resources>=3.2.0->matplotlib!=3.6.1,>=3.1->seaborn) (3.15.0)\n",
      "Requirement already satisfied: six>=1.5 in /opt/tljh/user/lib/python3.9/site-packages (from python-dateutil>=2.7->matplotlib!=3.6.1,>=3.1->seaborn) (1.16.0)\n",
      "Defaulting to user installation because normal site-packages is not writeable\n",
      "Requirement already satisfied: pyshp in /home/jupyter-wndlovu/.local/lib/python3.9/site-packages (2.3.1)\n",
      "Defaulting to user installation because normal site-packages is not writeable\n",
      "Requirement already satisfied: geopandas in /home/jupyter-wndlovu/.local/lib/python3.9/site-packages (0.13.1)\n",
      "Requirement already satisfied: fiona>=1.8.19 in /home/jupyter-wndlovu/.local/lib/python3.9/site-packages (from geopandas) (1.9.4.post1)\n",
      "Requirement already satisfied: pyproj>=3.0.1 in /home/jupyter-wndlovu/.local/lib/python3.9/site-packages (from geopandas) (3.5.0)\n",
      "Requirement already satisfied: shapely>=1.7.1 in /home/jupyter-wndlovu/.local/lib/python3.9/site-packages (from geopandas) (2.0.1)\n",
      "Requirement already satisfied: pandas>=1.1.0 in /home/jupyter-wndlovu/.local/lib/python3.9/site-packages (from geopandas) (2.0.2)\n",
      "Requirement already satisfied: packaging in /opt/tljh/user/lib/python3.9/site-packages (from geopandas) (23.1)\n",
      "Requirement already satisfied: attrs>=19.2.0 in /opt/tljh/user/lib/python3.9/site-packages (from fiona>=1.8.19->geopandas) (21.4.0)\n",
      "Requirement already satisfied: click~=8.0 in /opt/tljh/user/lib/python3.9/site-packages (from fiona>=1.8.19->geopandas) (8.0.3)\n",
      "Requirement already satisfied: importlib-metadata in /opt/tljh/user/lib/python3.9/site-packages (from fiona>=1.8.19->geopandas) (6.0.0)\n",
      "Requirement already satisfied: click-plugins>=1.0 in /home/jupyter-wndlovu/.local/lib/python3.9/site-packages (from fiona>=1.8.19->geopandas) (1.1.1)\n",
      "Requirement already satisfied: six in /opt/tljh/user/lib/python3.9/site-packages (from fiona>=1.8.19->geopandas) (1.16.0)\n",
      "Requirement already satisfied: certifi in /opt/tljh/user/lib/python3.9/site-packages (from fiona>=1.8.19->geopandas) (2023.5.7)\n",
      "Requirement already satisfied: cligj>=0.5 in /home/jupyter-wndlovu/.local/lib/python3.9/site-packages (from fiona>=1.8.19->geopandas) (0.7.2)\n",
      "Requirement already satisfied: numpy>=1.20.3 in /home/jupyter-wndlovu/.local/lib/python3.9/site-packages (from pandas>=1.1.0->geopandas) (1.21.0)\n",
      "Requirement already satisfied: pytz>=2020.1 in /opt/tljh/user/lib/python3.9/site-packages (from pandas>=1.1.0->geopandas) (2021.3)\n",
      "Requirement already satisfied: python-dateutil>=2.8.2 in /opt/tljh/user/lib/python3.9/site-packages (from pandas>=1.1.0->geopandas) (2.8.2)\n",
      "Requirement already satisfied: tzdata>=2022.1 in /home/jupyter-wndlovu/.local/lib/python3.9/site-packages (from pandas>=1.1.0->geopandas) (2023.3)\n",
      "Requirement already satisfied: zipp>=0.5 in /opt/tljh/user/lib/python3.9/site-packages (from importlib-metadata->fiona>=1.8.19->geopandas) (3.15.0)\n"
     ]
    }
   ],
   "source": [
    "#!pip install aquacrop==2.2\n",
    "#!pip install statsmodels==0.13.2\n",
    "!pip install dfply\n",
    "!pip install seaborn\n",
    "!pip install pyshp\n",
    "!pip install geopandas\n",
    "\n",
    "import statsmodels.api as sm\n",
    "from statsmodels.tools.eval_measures import rmse\n",
    "from aquacrop.utils import prepare_weather, get_filepath\n",
    "from aquacrop import AquaCropModel, Soil, Crop, InitialWaterContent, IrrigationManagement\n",
    "#from aquacrop.entities import IrrigationManagement\n",
    "from os import chdir, getcwd\n",
    "import pandas as pd\n",
    "import matplotlib.pyplot as plt\n",
    "import seaborn as sns\n",
    "import numpy as np\n",
    "import datetime\n",
    "import csv\n",
    "import pickle \n",
    "#from dfply import *\n",
    "\n",
    "\n",
    "import os \n",
    "import datetime\n",
    "import shapefile as shp\n",
    "import pandas as pd\n",
    "import geopandas as gpd\n",
    "from shapely import geometry\n",
    "import math\n",
    "from os import listdir\n",
    "from os.path import isfile, join\n",
    "import glob"
   ]
  },
  {
   "cell_type": "code",
   "execution_count": 19,
   "id": "72280a06-1fe5-49b9-83e6-c488df1a6535",
   "metadata": {
    "tags": []
   },
   "outputs": [],
   "source": [
    "wd=getcwd() # set working directory\n",
    "chdir(wd)"
   ]
  },
  {
   "cell_type": "code",
   "execution_count": null,
   "id": "f593d443-58a6-41aa-8827-9c8edbcf31cd",
   "metadata": {},
   "outputs": [],
   "source": [
    "# GMD4 fields\n",
    "fields = gpd.read_file('~/eggs/GMD4/ModelExtent_GMD4model_BWilson_v1_20230111.shp')\n"
   ]
  },
  {
   "cell_type": "code",
   "execution_count": 28,
   "id": "69fbac9a-b94b-4c4d-8cb3-960bdc992a29",
   "metadata": {
    "tags": []
   },
   "outputs": [
    {
     "name": "stderr",
     "output_type": "stream",
     "text": [
      "/home/jupyter-wndlovu/.local/lib/python3.9/site-packages/pyproj/crs/crs.py:141: FutureWarning: '+init=<authority>:<code>' syntax is deprecated. '<authority>:<code>' is the preferred initialization method. When making the change, be mindful of axis order changes: https://pyproj4.github.io/pyproj/stable/gotchas.html#axis-order-changes-in-proj-6\n",
      "  in_crs_string = _prepare_from_proj_string(in_crs_string)\n",
      "/home/jupyter-wndlovu/.local/lib/python3.9/site-packages/pyproj/crs/crs.py:141: FutureWarning: '+init=<authority>:<code>' syntax is deprecated. '<authority>:<code>' is the preferred initialization method. When making the change, be mindful of axis order changes: https://pyproj4.github.io/pyproj/stable/gotchas.html#axis-order-changes-in-proj-6\n",
      "  in_crs_string = _prepare_from_proj_string(in_crs_string)\n"
     ]
    }
   ],
   "source": [
    "# GMD4 fields\n",
    "#fields = gpd.read_file('~/eggs/GMD4/ModelExtent_GMD4model_BWilson_v1_20230111.shp')\n",
    "\n",
    "\n",
    "\n",
    "# KS counties\n",
    "# https://catalog.data.gov/dataset/tiger-line-shapefile-2019-state-kansas-current-county-subdivision-state-based\n",
    "# site had wrong coordinates\n",
    "\n",
    "# https://public.opendatasoft.com/explore/dataset/us-county-boundaries/export/?disjunctive.statefp&disjunctive.countyfp&disjunctive.name&disjunctive.namelsad&disjunctive.stusab&disjunctive.state_name&refine.state_name=Kansas\n",
    "\n",
    "county_boundary = gpd.read_file('~/eggs/County Boundaries/USCountyBoundaries_WNdlovu_v1_20221220.shp')\n",
    "\n",
    "\n",
    "# filter for countys in GMD-4\n",
    "gmd4 = ['Cheyenne', 'Rawlins', 'Decatur', 'Sherman', 'Gove', 'Thomas', 'Sheridan', 'Graham', 'Wallace', 'Logan'] # list of gmd4 coundties\n",
    "county_boundary = county_boundary[county_boundary['name'].isin(gmd4)] # filter for counties inside gmd4 list\n",
    "\n",
    "# county_boundary and fields layers have same projection\n",
    "fields = fields.to_crs({'init': 'epsg:4326'})\n",
    "county_boundary = county_boundary.to_crs({'init': 'epsg:4326'})\n",
    "\n",
    "# Execute spatial join\n",
    "fields_county = county_boundary.sjoin(fields, how=\"inner\", predicate='intersects') # has 93390 obs vs fields with 176407 obs\n",
    "dup_fields = fields_county[fields_county['UID'].duplicated(keep= False)] # fields that appear in 2 counties\n",
    "\n",
    "fields_county = fields_county.drop_duplicates(subset=['UID']) # dropped dupilcated observations based on UID\n",
    "fields_county = fields_county[['UID', 'name', 'geometry']] # select useful variables\n"
   ]
  },
  {
   "cell_type": "code",
   "execution_count": 48,
   "id": "3f5ce512-44d2-4b69-9218-b9c59c421d32",
   "metadata": {
    "tags": []
   },
   "outputs": [
    {
     "ename": "FileNotFoundError",
     "evalue": "[Errno 2] No such file or directory: '~/eggs'",
     "output_type": "error",
     "traceback": [
      "\u001b[0;31m---------------------------------------------------------------------------\u001b[0m",
      "\u001b[0;31mFileNotFoundError\u001b[0m                         Traceback (most recent call last)",
      "Input \u001b[0;32mIn [48]\u001b[0m, in \u001b[0;36m<module>\u001b[0;34m\u001b[0m\n\u001b[1;32m      1\u001b[0m landUse_path \u001b[38;5;241m=\u001b[39m \u001b[38;5;124m'\u001b[39m\u001b[38;5;124m~/eggs\u001b[39m\u001b[38;5;124m'\u001b[39m \u001b[38;5;66;03m# landuse folder path\u001b[39;00m\n\u001b[0;32m----> 2\u001b[0m landUse_files \u001b[38;5;241m=\u001b[39m [f \u001b[38;5;28;01mfor\u001b[39;00m f \u001b[38;5;129;01min\u001b[39;00m \u001b[43mlistdir\u001b[49m\u001b[43m(\u001b[49m\u001b[43mlandUse_path\u001b[49m\u001b[43m)\u001b[49m \u001b[38;5;28;01mif\u001b[39;00m isfile(join(landUse_path, f))] \u001b[38;5;66;03m# read files from folder\u001b[39;00m\n\u001b[1;32m      3\u001b[0m landUse_dfs_list \u001b[38;5;241m=\u001b[39m []\n",
      "\u001b[0;31mFileNotFoundError\u001b[0m: [Errno 2] No such file or directory: '~/eggs'"
     ]
    }
   ],
   "source": [
    "landUse_path = '~/eggs' # landuse folder path\n",
    "landUse_files = [f for f in listdir(landUse_path) if isfile(join(landUse_path, f))] # read files from folder\n",
    "landUse_dfs_list = []  # List to store the dataframes "
   ]
  },
  {
   "cell_type": "code",
   "execution_count": 49,
   "id": "6d41a030-be0b-4864-add7-cca4c5dfcb6f",
   "metadata": {
    "tags": []
   },
   "outputs": [],
   "source": [
    "landUse_path = '~/eggs/GMD4'\n"
   ]
  },
  {
   "cell_type": "code",
   "execution_count": 37,
   "id": "cb25021e-6f37-4bbc-9a8a-8d390dd7397d",
   "metadata": {
    "tags": []
   },
   "outputs": [
    {
     "ename": "FileNotFoundError",
     "evalue": "[Errno 2] No such file or directory: '~/eggs/GMD4_LandUse'",
     "output_type": "error",
     "traceback": [
      "\u001b[0;31m---------------------------------------------------------------------------\u001b[0m",
      "\u001b[0;31mFileNotFoundError\u001b[0m                         Traceback (most recent call last)",
      "Input \u001b[0;32mIn [37]\u001b[0m, in \u001b[0;36m<module>\u001b[0;34m\u001b[0m\n\u001b[1;32m      1\u001b[0m \u001b[38;5;66;03m# crop data data from 2006 - 2020\u001b[39;00m\n\u001b[1;32m      2\u001b[0m \u001b[38;5;66;03m#crops_irrigation = pd.read_csv(wd + '/data/water/Kansas/IrrigationDepth_GMD4_WNdlovu_v1_20230123.csv')\u001b[39;00m\n\u001b[1;32m      3\u001b[0m \u001b[38;5;66;03m#crops_field = pd.read_csv(wd + '/data/agricLand/landUse_landCover/FieldsAttributesAroundSD6KS_LandCover_AnnualCDL.csv')\u001b[39;00m\n\u001b[1;32m      4\u001b[0m \n\u001b[1;32m      5\u001b[0m \u001b[38;5;66;03m# merge irrigation status files\u001b[39;00m\n\u001b[1;32m      7\u001b[0m landUse_path \u001b[38;5;241m=\u001b[39m \u001b[38;5;124m'\u001b[39m\u001b[38;5;124m~/eggs/GMD4_LandUse\u001b[39m\u001b[38;5;124m'\u001b[39m \u001b[38;5;66;03m# landouse folder path\u001b[39;00m\n\u001b[0;32m----> 8\u001b[0m landUse_files \u001b[38;5;241m=\u001b[39m [f \u001b[38;5;28;01mfor\u001b[39;00m f \u001b[38;5;129;01min\u001b[39;00m \u001b[43mlistdir\u001b[49m\u001b[43m(\u001b[49m\u001b[43mlandUse_path\u001b[49m\u001b[43m)\u001b[49m \u001b[38;5;28;01mif\u001b[39;00m isfile(join(landUse_path, f))] \u001b[38;5;66;03m# read files from folder\u001b[39;00m\n\u001b[1;32m      9\u001b[0m landUse_dfs_list \u001b[38;5;241m=\u001b[39m []  \u001b[38;5;66;03m# List to store the dataframes\u001b[39;00m\n\u001b[1;32m     11\u001b[0m \u001b[38;5;28;01mfor\u001b[39;00m file \u001b[38;5;129;01min\u001b[39;00m landUse_files: \u001b[38;5;66;03m# read files and save them a list of dataframes\u001b[39;00m\n",
      "\u001b[0;31mFileNotFoundError\u001b[0m: [Errno 2] No such file or directory: '~/eggs/GMD4_LandUse'"
     ]
    }
   ],
   "source": [
    "# crop data data from 2006 - 2020\n",
    "#crops_irrigation = pd.read_csv(wd + '/data/water/Kansas/IrrigationDepth_GMD4_WNdlovu_v1_20230123.csv')\n",
    "#crops_field = pd.read_csv(wd + '/data/agricLand/landUse_landCover/FieldsAttributesAroundSD6KS_LandCover_AnnualCDL.csv')\n",
    "\n",
    "# merge irrigation status files\n",
    "\n",
    "landUse_path = '~/eggs/GMD4_LandUse' # landouse folder path\n",
    "landUse_files = [f for f in listdir(landUse_path) if isfile(join(landUse_path, f))] # read files from folder\n",
    "landUse_dfs_list = []  # List to store the dataframes\n",
    "\n",
    "for file in landUse_files: # read files and save them a list of dataframes\n",
    "    file_path = os.path.join(landUse_path, file)\n",
    "    df = pd.read_csv(file_path) \n",
    "    landUse_dfs_list.append(df)\n",
    "\n",
    "landUse_df = pd.concat(landUse_dfs_list, ignore_index=True) # merge dataframes in list \n",
    "landUse_df = landUse_df.drop(['system:index', 'status', '.geo'], axis=1) #drop system index variable\n",
    "\n",
    "# replace all nan with 0 except for year and masterid cols\n",
    "cols = ['Year', 'masterid']\n",
    "\n",
    "landUse_df.loc[:, ~landUse_df.columns.isin(cols)] = landUse_df.loc[:, ~landUse_df.columns.isin(cols)].fillna(0)\n",
    "\n",
    "# make year and masterid indexes\n",
    "landUse_df = landUse_df.set_index(['Year', 'masterid'])\n",
    "landUse_df['totalCover'] = landUse_df.sum(axis=1, numeric_only=True) #calculate (tatal land used) rowwise sum for all crops \n",
    "\n",
    "landUse_df = landUse_df[['1', '4', '5', '24', 'totalCover']] # select only the crops of interest \"Corn\", \"Sorghum\", \"Soybeans\", \"Winter Wheat\"]\n",
    "\n",
    "# calculate % land cover\n",
    "landUse_df['1'] = landUse_df['1']/landUse_df['totalCover']\n",
    "landUse_df['4'] = landUse_df['4']/landUse_df['totalCover']\n",
    "landUse_df['5'] = landUse_df['5']/landUse_df['totalCover']\n",
    "landUse_df['24'] = landUse_df['24']/landUse_df['totalCover']\n",
    "\n",
    "landUse_df = landUse_df.drop(['totalCover'], axis=1) # drop totalCover \n",
    "landUse_df = landUse_df.melt(ignore_index=False) #pivot longer on the pct covers\n",
    "landUse_df = landUse_df.reset_index()\n",
    "landUse_df = landUse_df.rename(columns={'masterid': 'UID', 'variable': 'CropCode', 'value': 'pctcov'}) # rename columns\n",
    "landUse_df = landUse_df[landUse_df['UID'] != 0] # remove place holder row with uid of 0\n",
    "landUse_df['CropCode'] = landUse_df['CropCode'].astype(int)\n",
    "#x = landUse_df.head(5)"
   ]
  },
  {
   "cell_type": "code",
   "execution_count": null,
   "id": "bc2f12c4-b4ce-4132-86c2-da8c9ef7c87a",
   "metadata": {},
   "outputs": [],
   "source": [
    "# county level yield for different crops (corn, wheat, sorghum and soybeans)\n",
    "corn_gmd4 = pd.read_csv(wd + '/data/agricLand/yield/Kansas/corn.csv')\n",
    "corn_gmd4['Irrig_status'] = np.where(corn_gmd4['Data Item'].str.contains(\"NON-IRRIGATED\"), 'rainfed', 'irrigated')\n",
    "corn_gmd4 = corn_gmd4[[\"Year\", \"State\", \"County\", \"Commodity\", \"Data Item\", \"Irrig_status\", \"Value\"]]\n",
    "\n",
    "wheat_gmd4 = pd.read_csv(wd + '/data/agricLand/yield/Kansas/winter_wheat.csv')\n",
    "wheat_gmd4['Irrig_status'] = np.where(wheat_gmd4['Data Item'].str.contains(\"NON-IRRIGATED\"), 'rainfed', 'irrigated')\n",
    "wheat_gmd4 = wheat_gmd4[[\"Year\", \"State\", \"County\", \"Commodity\", \"Data Item\", \"Irrig_status\", \"Value\"]]\n",
    "\n",
    "soybeans_gmd4 = pd.read_csv(wd + '/data/agricLand/yield/Kansas/soybeans.csv')\n",
    "soybeans_gmd4['Irrig_status'] = np.where(soybeans_gmd4['Data Item'].str.contains(\"NON-IRRIGATED\"), 'rainfed', 'irrigated')\n",
    "soybeans_gmd4 = soybeans_gmd4[[\"Year\", \"State\", \"County\", \"Commodity\", \"Data Item\", \"Irrig_status\", \"Value\"]]\n",
    "\n",
    "sorghum_gmd4 = pd.read_csv(wd + '/data/agricLand/yield/Kansas/sorghum.csv')\n",
    "sorghum_gmd4['Irrig_status'] = np.where(sorghum_gmd4['Data Item'].str.contains(\"NON-IRRIGATED\"), 'rainfed', 'irrigated')\n",
    "sorghum_gmd4 = sorghum_gmd4[[\"Year\", \"State\", \"County\", \"Commodity\", \"Data Item\", \"Irrig_status\", \"Value\"]]"
   ]
  },
  {
   "cell_type": "code",
   "execution_count": null,
   "id": "e59c01b9-31b8-4657-b7cf-bb4d4c50133c",
   "metadata": {},
   "outputs": [],
   "source": [
    "# irrigation status\n",
    "irrig_status = pd.read_csv(wd + '/data/agricLand/irrigationStatus/Kansas/AIM_HPA_GMD4_2000_2020_Deines_etal_RSE_v01_samsPolygons.csv')\n",
    "irrig_status['0'] = irrig_status['0'].fillna(0) # replace nan with 0\n",
    "irrig_status['1'] = irrig_status['1'].fillna(0) # replace nan with 0\n",
    "irrig_status['IrrigatedPrc'] = 1 - (irrig_status['0'] / (irrig_status['0'] + irrig_status['1']))\n",
    "irrig_status = irrig_status.assign(irrig_management = np.where(irrig_status['IrrigatedPrc'] <= 0.5, 'rainfed', 'irrigated')) # variable with irrigation status\n",
    "irrig_status = irrig_status[['UID', 'year', 'IrrigatedPrc', 'irrig_management']]\n",
    "irrig_status = irrig_status.rename(columns={'year': 'Year'})\n",
    "#y = irrig_status.tail(5)"
   ]
  },
  {
   "cell_type": "code",
   "execution_count": null,
   "id": "a8ae1065-b581-488c-beaf-636274f798f4",
   "metadata": {},
   "outputs": [],
   "source": [
    "# Create lists of crop codes, crop names, and crop groups to match them up in a single dataframe\n",
    "CropCode = [1, 4, 5, 24]\n",
    "\n",
    "crop_name = [\"Corn\", \n",
    "             \"Sorghum\", \n",
    "             \"Soybeans\",  \n",
    "             \"Winter Wheat\"]\n",
    "\n",
    "\n",
    "crops = pd.DataFrame(zip(CropCode, crop_name), columns=['CropCode', 'cropName'])\n",
    "\n",
    "# new column with crop name int he crops_fields (full df)\n",
    "crops_field = landUse_df.merge(crops, on='CropCode', how='left')\n",
    "\n",
    "# one df with field and crop data\n",
    "crops_irrig = crops_field.merge(irrig_status, on=['UID', 'Year'], how='inner') # create a dataframe which shows the field UID, irrigation status and the crop grown \n",
    "crops_irrig = crops_irrig.merge(fields_county, on=['UID'], how='inner') # merge to get df with the county\n",
    "\n",
    "\n",
    "# make dataframe with county+crop+irrig_mngt polygon\n",
    "from shapely.ops import unary_union\n",
    "\n",
    "#mergedPolys = unary_union(polys)\n",
    "\n",
    "crops_irrig_gdf = gpd.GeoDataFrame(crops_irrig) # transform to geodataframe\n",
    "crops_irrig_gdf2 = crops_irrig_gdf.groupby(['name', 'cropName', 'irrig_management']).agg({'geometry': unary_union}) # combine polygons"
   ]
  }
 ],
 "metadata": {
  "kernelspec": {
   "display_name": "eggs2",
   "language": "python",
   "name": "eggs2"
  },
  "language_info": {
   "codemirror_mode": {
    "name": "ipython",
    "version": 3
   },
   "file_extension": ".py",
   "mimetype": "text/x-python",
   "name": "python",
   "nbconvert_exporter": "python",
   "pygments_lexer": "ipython3",
   "version": "3.9.9"
  }
 },
 "nbformat": 4,
 "nbformat_minor": 5
}
